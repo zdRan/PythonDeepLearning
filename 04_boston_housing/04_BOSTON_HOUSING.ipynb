{
 "cells": [
  {
   "cell_type": "markdown",
   "id": "71ec6f9d",
   "metadata": {},
   "source": [
    "# BOSTON_HOUSING\n",
    "\n",
    "这次我们要解决的问题是预测波士顿的房价。跟之前的问题不同的是，之前的问题我们预测的结果集都是有限的，比如是数字 0 ~ 9 中的哪一个，评论是正面还是负面，新闻是 46 个品类里的哪一个品类。这种结果集有限的问题被称为**分类问题**。最终需要预测是哪一个分类。但是这次预测波士顿房价的问题不一样，这次需要预测的是房价，结果是一个连续的值。这类问题被称为**回归问题**。\n",
    "\n",
    "我们使用的数据集是 20 世纪 70 年代的波士顿房价信息数据。数据量比较少，只有 506 个，分为 404 个训练样本，102 个测试样本。与之前的问题不一样的是，输入数据的每个特征的取值范围都不一样。有的是 (0,1)，有的是 (0,100)，还有的是 (1,12)。"
   ]
  },
  {
   "cell_type": "markdown",
   "id": "d47ffd6f",
   "metadata": {},
   "source": [
    "# 1、数据集\n",
    "加载数据"
   ]
  },
  {
   "cell_type": "code",
   "execution_count": 3,
   "id": "17b8577f",
   "metadata": {},
   "outputs": [],
   "source": [
    "from keras.datasets import boston_housing\n",
    "\n",
    "(train_data,train_targets),(test_data,test_targets) = boston_housing.load_data()"
   ]
  },
  {
   "cell_type": "markdown",
   "id": "26fb9769",
   "metadata": {},
   "source": [
    "我们先看下测试数据的格式"
   ]
  },
  {
   "cell_type": "code",
   "execution_count": 7,
   "id": "3c0c3c09",
   "metadata": {},
   "outputs": [
    {
     "name": "stdout",
     "output_type": "stream",
     "text": [
      "(404, 13)\n",
      "[  1.23247   0.        8.14      0.        0.538     6.142    91.7\n",
      "   3.9769    4.      307.       21.      396.9      18.72   ]\n",
      "(404,)\n",
      "15.2\n"
     ]
    }
   ],
   "source": [
    "print(train_data.shape)\n",
    "print(train_data[0])\n",
    "print(train_targets.shape)\n",
    "print(train_targets[0])"
   ]
  },
  {
   "cell_type": "markdown",
   "id": "3df0567d",
   "metadata": {},
   "source": [
    "可以看到，我们一共有 404 条训练数据，每一条训练数据又有 13 个特征。输出的标签是房屋价格的中位数，单位是：千美元。比如第一条数据的房屋价格就是 15200 美元。从上面的输出里也可以看到，训练数据的特征取值范围差距非常大。这时因为这些特征代表的含义不同，比如人均犯罪率、每个住宅的平均房间数、高速公路可达性等。所以对应的取值范围也完全不同。"
   ]
  },
  {
   "cell_type": "markdown",
   "id": "177eabce",
   "metadata": {},
   "source": [
    "# 2、数据处理\n",
    "因为训练数据的特征取值范围不同，如果直接输入到神经网络中，学习会变得困难很多，所以需要先对数据进行**标准化**处理。\n",
    "\n",
    "**标准化**的过程很简单，拿一条数据来说。首先对这 13 个特征求平均数，所有特征都减去平均数，再除以这 13 个特征的**标准差（方差的算术平方根）** 这样就得到了标准化后的特征了。用 Numpy 很容易实现 **标准化**。"
   ]
  },
  {
   "cell_type": "code",
   "execution_count": 10,
   "id": "ef6fda0a",
   "metadata": {},
   "outputs": [
    {
     "name": "stdout",
     "output_type": "stream",
     "text": [
      "(404, 13)\n",
      "[-0.27224633 -0.48361547 -0.43576161 -0.25683275 -0.1652266  -0.1764426\n",
      "  0.81306188  0.1166983  -0.62624905 -0.59517003  1.14850044  0.44807713\n",
      "  0.8252202 ]\n"
     ]
    }
   ],
   "source": [
    "mean = train_data.mean(axis = 0)\n",
    "train_data -= mean\n",
    "\n",
    "std = train_data.std(axis=0)\n",
    "train_data /= std\n",
    "\n",
    "test_data -= mean\n",
    "test_data /= std\n",
    "\n",
    "\n",
    "print(train_data.shape)\n",
    "print(train_data[0])"
   ]
  },
  {
   "cell_type": "markdown",
   "id": "6c81fc35",
   "metadata": {},
   "source": [
    "标准化后的数据都是介于 (-1,1) 之间的数值了。"
   ]
  },
  {
   "cell_type": "markdown",
   "id": "0bf40b5b",
   "metadata": {},
   "source": [
    "# 3、构建神经网络\n",
    "\n",
    "由于数据量比较少，所以我们构建了一个 3 层的神经网络，前两层有 64 个神经单元，最后一层要输出一个具体的数值（房价），所以只有一个神经单元。\n",
    "\n",
    "![BOSTON_HOUSING_01.png](./resources/BOSTON_HOUSING_01.png)"
   ]
  },
  {
   "cell_type": "code",
   "execution_count": 12,
   "id": "82b81f03",
   "metadata": {},
   "outputs": [],
   "source": [
    "from keras import models\n",
    "from keras import layers\n",
    "\n",
    "def bulid_model():\n",
    "    model = models.Sequential()\n",
    "    model.add(layers.Dense(64,activation='relu',input_shape=(13,)))\n",
    "    model.add(layers.Dense(64,activation='relu'))\n",
    "    model.add(layers.Dense(1))\n",
    "\n",
    "    # 编译网络\n",
    "    model.compile(optimizer='rmsprop',loss='mse',metrics=['mae'])\n",
    "    return model"
   ]
  },
  {
   "cell_type": "markdown",
   "id": "5dc19f45",
   "metadata": {},
   "source": [
    "神经网络的最后一层只有一个神经单元，并且没有激活函数，这是**标量回归**的典型设置。因为设置了激活函数后，就会限制输出的范围。这次我们使用了一个新的损失函数 mse，即**均方误差**。计算的是预测值和目标值之间误差的平方。这是回归问题常用的损失函数。我们还使用了一个新的监控指标，mae，即平均绝对误差。它是预测值与目标值之差的绝对值。比如，mae= 1.5 说明预测值与目标值差 1.5。因为我们房价的单位是 千美元，也就是说我们预测的房间与实际的房价差 1500 美元。 "
   ]
  },
  {
   "cell_type": "markdown",
   "id": "8d183d5e",
   "metadata": {},
   "source": [
    "# 4、K折交叉验证\n",
    "因为数据量比少，导致我们的验证集非常小。因此，验证分数会有很大的波动，无法对模型进行可靠的评估。在这种情况下可以使用 **K折交叉验证**的方法。\n",
    "\n",
    "这种方法是将数据划分为 K 个分区（通常是 4 或者 5 个）。然后实例化 K 个相同的模型，在 K - 1 个分区上训练，在剩下的一个分区上验证，最后取 K 个模型的验证分数的平均值。\n",
    "\n",
    "![BOSTON_HOUSING_02.png](./resources/BOSTON_HOUSING_02.png)"
   ]
  },
  {
   "cell_type": "code",
   "execution_count": 17,
   "id": "396a2079",
   "metadata": {},
   "outputs": [
    {
     "name": "stdout",
     "output_type": "stream",
     "text": [
      "开始训练第 0 个分区\n",
      "开始训练第 1 个分区\n",
      "开始训练第 2 个分区\n",
      "开始训练第 3 个分区\n",
      "[2.0343523025512695, 2.7967753410339355, 2.6975393295288086, 2.506871461868286]\n"
     ]
    }
   ],
   "source": [
    "import numpy as np\n",
    "\n",
    "def fit():\n",
    "    k = 4\n",
    "    # 每个分区的数据个数\n",
    "    num_val_samples = len(train_data)//k\n",
    "    # 循环次数\n",
    "    num_epochs = 100\n",
    "    # 所有分数的列表\n",
    "    all_scores = []\n",
    "\n",
    "    for i in range(k):\n",
    "        print(\"开始训练第 {} 个分区\".format(i))\n",
    "        # 准备验证数据\n",
    "        val_data = train_data[i * num_val_samples: (i + 1) * num_val_samples]\n",
    "        val_traget = train_targets[i * num_val_samples: (i + 1) * num_val_samples]\n",
    "\n",
    "        # 准备训练数据，concatenate方法可以合并数组\n",
    "        partial_train_data = np.concatenate([train_data[0:i * num_val_samples],\n",
    "                                             train_data[(i + 1) * num_val_samples:]],axis = 0)\n",
    "\n",
    "        partial_train_target = np.concatenate([train_targets[0:i * num_val_samples],\n",
    "                                             train_targets[(i + 1) * num_val_samples:]],axis = 0)\n",
    "        # 构建神经网络\n",
    "        model = bulid_model()\n",
    "        # 开始训练 verbose =0 表示不再输出训练期间的日志信息，因为训练轮次太多。\n",
    "        model.fit(partial_train_data,partial_train_target,epochs=num_epochs,batch_size = 1,verbose=0)\n",
    "        # 验证数据\n",
    "        val_mse,val_mae = model.evaluate(val_data,val_traget,verbose=0)\n",
    "        # mae 是预测值与实际值的差值\n",
    "        all_scores.append(val_mae)\n",
    "\n",
    "    print(all_scores)\n",
    "\n",
    "fit()"
   ]
  },
  {
   "cell_type": "markdown",
   "id": "626f8fcc",
   "metadata": {},
   "source": [
    "可以看到 4 个分区的平均值在2.0 到 2.7 之间，差距还是有点大。我们修改循环次数到 500 ，并且保存每轮的验证分数。"
   ]
  },
  {
   "cell_type": "code",
   "execution_count": 22,
   "id": "6d5068bd",
   "metadata": {},
   "outputs": [
    {
     "name": "stdout",
     "output_type": "stream",
     "text": [
      "开始训练第 0 个分区\n",
      "开始训练第 1 个分区\n",
      "开始训练第 2 个分区\n",
      "开始训练第 3 个分区\n"
     ]
    }
   ],
   "source": [
    "# 所有分数的列表\n",
    "all_scores = []\n",
    "def fit_02():\n",
    "    k = 4\n",
    "    # 每个分区的数据个数\n",
    "    num_val_samples = len(train_data)//k\n",
    "    # 循环次数\n",
    "    num_epochs = 500\n",
    "\n",
    "\n",
    "    for i in range(k):\n",
    "        print(\"开始训练第 {} 个分区\".format(i))\n",
    "        # 准备验证数据\n",
    "        val_data = train_data[i * num_val_samples: (i + 1) * num_val_samples]\n",
    "        val_traget = train_targets[i * num_val_samples: (i + 1) * num_val_samples]\n",
    "\n",
    "        # 准备训练数据，concatenate方法可以合并数组\n",
    "        partial_train_data = np.concatenate([train_data[0:i * num_val_samples],\n",
    "                                             train_data[(i + 1) * num_val_samples:]],axis = 0)\n",
    "\n",
    "        partial_train_target = np.concatenate([train_targets[0:i * num_val_samples],\n",
    "                                             train_targets[(i + 1) * num_val_samples:]],axis = 0)\n",
    "        # 构建神经网络\n",
    "        model = bulid_model()\n",
    "        # 开始训练 verbose =0 表示不再输出训练期间的日志信息，因为训练轮次太多。\n",
    "        history = model.fit(partial_train_data,partial_train_target,epochs=num_epochs,batch_size = 1,verbose=0)\n",
    "        all_scores.append(history.history['mae'])\n",
    "\n",
    "fit_02()"
   ]
  },
  {
   "cell_type": "markdown",
   "id": "7e122536",
   "metadata": {},
   "source": [
    "我们需要计算每个折MAE的平均值。 ```all_scores``` 是一个 4 行 500 列的二维数组，每一行是 K 折的的验证分数，因为我们训练了 500 次，所以有 500 列。我们需要计算每一次循环时这 4个模型得到的验证分数的平均值，作为模型的验证分数。也就是说，每一列计算一个平均值，作为模型一次循环的验证分数。"
   ]
  },
  {
   "cell_type": "code",
   "execution_count": 32,
   "id": "a66d89c6",
   "metadata": {},
   "outputs": [],
   "source": [
    "# 每一列计算一次平均值。\n",
    "average_mae_histpry = [np.mean( [x[i] for x in all_scores ]) for i in range(500)]"
   ]
  },
  {
   "cell_type": "markdown",
   "id": "fa2acc2d",
   "metadata": {},
   "source": [
    "我们画图展示一下。"
   ]
  },
  {
   "cell_type": "code",
   "execution_count": 38,
   "id": "bc3a62e7",
   "metadata": {},
   "outputs": [
    {
     "data": {
      "image/png": "[encoded data removed]",
      "text/plain": [
       "<Figure size 640x480 with 1 Axes>"
      ]
     },
     "metadata": {},
     "output_type": "display_data"
    }
   ],
   "source": [
    "import matplotlib.pyplot as plt\n",
    "\n",
    "def show(data):\n",
    "    plt.plot(range(1,len(data)+1),data)\n",
    "    plt.xlabel('Epochs')\n",
    "    plt.ylabel('MAE')\n",
    "    plt.show()\n",
    "\n",
    "show(average_mae_histpry)"
   ]
  },
  {
   "cell_type": "markdown",
   "id": "4fcd0847",
   "metadata": {},
   "source": [
    "上面的图表示，我们的模型在每一次循环时得到的平均验证分数，一共循环了500次。"
   ]
  }
 ],
 "metadata": {
  "kernelspec": {
   "display_name": "Python 3 (ipykernel)",
   "language": "python",
   "name": "python3"
  },
  "language_info": {
   "codemirror_mode": {
    "name": "ipython",
    "version": 3
   },
   "file_extension": ".py",
   "mimetype": "text/x-python",
   "name": "python",
   "nbconvert_exporter": "python",
   "pygments_lexer": "ipython3",
   "version": "3.9.6"
  },
  "toc": {
   "base_numbering": 1,
   "nav_menu": {},
   "number_sections": true,
   "sideBar": true,
   "skip_h1_title": false,
   "title_cell": "Table of Contents",
   "title_sidebar": "Contents",
   "toc_cell": false,
   "toc_position": {},
   "toc_section_display": true,
   "toc_window_display": false
  }
 },
 "nbformat": 4,
 "nbformat_minor": 5
}
