{
 "cells": [
  {
   "cell_type": "markdown",
   "id": "501aba42",
   "metadata": {},
   "source": [
    "# MNIST\n",
    "\n",
    "我们要解决的问题是：识别手写数字。\n",
    "\n",
    "问题的输入：是一张灰度图像像素是 28 * 28。\n",
    "问题的输出：是这张图片上的手写数字是几（0-9）\n",
    "\n",
    "我们训练需要用到的数据源是 MNIST 包含 6W 张训练图像，1W 张测试图像\n"
   ]
  },
  {
   "cell_type": "markdown",
   "id": "761ba680",
   "metadata": {},
   "source": [
    "## 1、加载数据集\n",
    "首先我们需要先加载数据集"
   ]
  },
  {
   "cell_type": "code",
   "execution_count": 6,
   "id": "961470f4",
   "metadata": {},
   "outputs": [],
   "source": [
    "from keras.datasets import mnist\n",
    "\n",
    "(train_images, train_labels), (test_images, test_labels) = mnist.load_data()"
   ]
  },
  {
   "cell_type": "markdown",
   "id": "185d3afd",
   "metadata": {},
   "source": [
    "train_images和train_labels 是训练集的"
   ]
  }
 ],
 "metadata": {
  "kernelspec": {
   "display_name": "deep_learning",
   "language": "python",
   "name": "deep_learning"
  },
  "language_info": {
   "codemirror_mode": {
    "name": "ipython",
    "version": 3
   },
   "file_extension": ".py",
   "mimetype": "text/x-python",
   "name": "python",
   "nbconvert_exporter": "python",
   "pygments_lexer": "ipython3",
   "version": "3.7.4"
  },
  "toc": {
   "base_numbering": 1,
   "nav_menu": {},
   "number_sections": false,
   "sideBar": true,
   "skip_h1_title": false,
   "title_cell": "Table of Contents",
   "title_sidebar": "Contents",
   "toc_cell": false,
   "toc_position": {},
   "toc_section_display": true,
   "toc_window_display": false
  }
 },
 "nbformat": 4,
 "nbformat_minor": 5
}
