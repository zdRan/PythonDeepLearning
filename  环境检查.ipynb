{
 "cells": [
  {
   "cell_type": "code",
   "execution_count": 1,
   "id": "5c915d62",
   "metadata": {},
   "outputs": [
    {
     "name": "stderr",
     "output_type": "stream",
     "text": [
      "2023-05-30 22:55:01.477133: I tensorflow/core/platform/cpu_feature_guard.cc:193] This TensorFlow binary is optimized with oneAPI Deep Neural Network Library (oneDNN) to use the following CPU instructions in performance-critical operations:  AVX2 FMA\n",
      "To enable them in other operations, rebuild TensorFlow with the appropriate compiler flags.\n"
     ]
    },
    {
     "name": "stdout",
     "output_type": "stream",
     "text": [
      "python version: 3.9.6\n",
      "tensorflow version: 2.10.0\n",
      "keras version: 2.10.0\n"
     ]
    }
   ],
   "source": [
    "import tensorflow as tf\n",
    "import keras\n",
    "import platform\n",
    "\n",
    "print('python version: {}'.format(platform.python_version()))\n",
    "print('tensorflow version: {}'.format(tf.__version__))\n",
    "print('keras version: {}'.format(keras.__version__))\n"
   ]
  },
  {
   "cell_type": "markdown",
   "id": "bcb02e47",
   "metadata": {},
   "source": [
    "输出结果应该是：\n",
    "\n",
    "```\n",
    "python version:3.8.9\n",
    "tensorflow version:2.10.0\n",
    "keras version:2.10.0\n",
    "```\n",
    "\n",
    "如果版本不对应，存在部分代码无法运行的风险。请悉知~"
   ]
  },
  {
   "cell_type": "code",
   "execution_count": null,
   "id": "29ff90d8",
   "metadata": {},
   "outputs": [],
   "source": []
  }
 ],
 "metadata": {
  "kernelspec": {
   "display_name": "Python 3 (ipykernel)",
   "language": "python",
   "name": "python3"
  },
  "language_info": {
   "codemirror_mode": {
    "name": "ipython",
    "version": 3
   },
   "file_extension": ".py",
   "mimetype": "text/x-python",
   "name": "python",
   "nbconvert_exporter": "python",
   "pygments_lexer": "ipython3",
   "version": "3.9.6"
  },
  "toc": {
   "base_numbering": 1,
   "nav_menu": {},
   "number_sections": true,
   "sideBar": true,
   "skip_h1_title": false,
   "title_cell": "Table of Contents",
   "title_sidebar": "Contents",
   "toc_cell": false,
   "toc_position": {},
   "toc_section_display": true,
   "toc_window_display": false
  }
 },
 "nbformat": 4,
 "nbformat_minor": 5
}
